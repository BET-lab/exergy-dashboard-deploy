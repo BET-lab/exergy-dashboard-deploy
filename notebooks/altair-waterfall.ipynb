{
 "cells": [
  {
   "cell_type": "code",
   "execution_count": 113,
   "metadata": {},
   "outputs": [],
   "source": [
    "import altair as alt\n",
    "import pandas as pd\n",
    "\n",
    "alt.JupyterChart.enable_offline()"
   ]
  },
  {
   "cell_type": "code",
   "execution_count": 114,
   "metadata": {},
   "outputs": [],
   "source": [
    "df = pd.DataFrame({\n",
    "    'x': ['A', 'B', 'C', 'D', 'E'],\n",
    "    'y': [5, -10, 15, -7, 5]\n",
    "})\n",
    "\n",
    "groups = 'abcde'\n",
    "dfs = []\n",
    "for i, group in enumerate(groups):\n",
    "    dfs.append(df.copy())\n",
    "    dfs[i]['group'] = f'group {group}'\n",
    "\n",
    "df = pd.concat(dfs) "
   ]
  },
  {
   "cell_type": "code",
   "execution_count": 115,
   "metadata": {},
   "outputs": [
    {
     "data": {
      "application/vnd.jupyter.widget-view+json": {
       "model_id": "1da8ef7feed1435b9b97fe99cc3e2a72",
       "version_major": 2,
       "version_minor": 1
      },
      "text/plain": [
       "JupyterChart(spec={'config': {'view': {'continuousWidth': 300, 'continuousHeight': 300}}, 'data': {'name': 'da…"
      ]
     },
     "execution_count": 115,
     "metadata": {},
     "output_type": "execute_result"
    }
   ],
   "source": [
    "chart = (\n",
    "    alt.Chart(df)\n",
    "    .transform_window(\n",
    "        acc_y='sum(y)',\n",
    "        frame=[None, 0],\n",
    "        groupby=['group'],\n",
    "    )\n",
    "    .transform_window(\n",
    "        lead_x='lead(x)',\n",
    "        groupby=['group'],\n",
    "    )\n",
    "    .transform_calculate(\n",
    "        calc_lead_x='datum.lead_x == null ? datum.x : datum.lead_x',\n",
    "    )\n",
    ")\n",
    "\n",
    "chart = chart.mark_rule().encode(\n",
    "    x='x:O',\n",
    "    x2='calc_lead_x:O',\n",
    "    # x='x:O',\n",
    "    y='acc_y:Q',\n",
    "    column='group',\n",
    ")\n",
    "\n",
    "# .properties(\n",
    "#     width=200,\n",
    "#     height=150,\n",
    "# ).facet(\n",
    "#     facet='group',\n",
    "#     columns=2,\n",
    "# ).resolve_axis(\n",
    "#     x='independent',\n",
    "# )\n",
    "\n",
    "jchart = alt.JupyterChart(chart)\n",
    "jchart"
   ]
  },
  {
   "cell_type": "code",
   "execution_count": 116,
   "metadata": {},
   "outputs": [],
   "source": [
    "chart.save('chart.html')"
   ]
  },
  {
   "cell_type": "code",
   "execution_count": 117,
   "metadata": {},
   "outputs": [
    {
     "data": {
      "application/vnd.jupyter.widget-view+json": {
       "model_id": "9281043421fa49269b2617e4154b5f41",
       "version_major": 2,
       "version_minor": 1
      },
      "text/plain": [
       "JupyterChart(spec={'config': {'view': {'continuousWidth': 300, 'continuousHeight': 300}}, 'data': {'name': 'da…"
      ]
     },
     "execution_count": 117,
     "metadata": {},
     "output_type": "execute_result"
    }
   ],
   "source": [
    "data = [\n",
    "    {\"label\": \"Begin\", \"amount\": 4000},\n",
    "    # {\"label\": \"Jan\", \"amount\": 1707},\n",
    "    {\"label\": \"Feb\", \"amount\": -1425},\n",
    "    # {\"label\": \"Mar\", \"amount\": -1030},\n",
    "    # {\"label\": \"Apr\", \"amount\": 1812},\n",
    "    {\"label\": \"May\", \"amount\": -1067},\n",
    "    # {\"label\": \"Jun\", \"amount\": -1481},\n",
    "    {\"label\": \"Jul\", \"amount\": 1228},\n",
    "    # {\"label\": \"Aug\", \"amount\": 1176},\n",
    "    # {\"label\": \"Sep\", \"amount\": 1146},\n",
    "    # {\"label\": \"Oct\", \"amount\": 1205},\n",
    "    # {\"label\": \"Nov\", \"amount\": -1388},\n",
    "    # {\"label\": \"Dec\", \"amount\": 1492},\n",
    "    {\"label\": \"End\", \"amount\": 0},\n",
    "]\n",
    "source = pd.DataFrame(data)\n",
    "\n",
    "sources = []\n",
    "for i, group in enumerate(groups):\n",
    "    sources.append(source.copy())\n",
    "    sources[i]['group'] = f'group {group}'\n",
    "\n",
    "source = pd.concat(sources)\n",
    "\n",
    "# Define frequently referenced fields\n",
    "amount = alt.datum.amount\n",
    "label = alt.datum.label\n",
    "window_lead_label = alt.datum.window_lead_label\n",
    "window_sum_amount = alt.datum.window_sum_amount\n",
    "\n",
    "# Define frequently referenced/long expressions\n",
    "calc_prev_sum = alt.expr.if_(label == \"End\", 0, window_sum_amount - amount)\n",
    "calc_amount = alt.expr.if_(label == \"End\", window_sum_amount, amount)\n",
    "calc_text_amount = (\n",
    "    alt.expr.if_((label != \"Begin\") & (label != \"End\") & calc_amount > 0, \"+\", \"\")\n",
    "    + calc_amount\n",
    ")\n",
    "\n",
    "# The \"base_chart\" defines the transform_window, transform_calculate, and X axis\n",
    "base_chart = alt.Chart(source).encode(\n",
    "    x=alt.X(\"label:O\", axis=alt.Axis(title=\"Months\", labelAngle=0), sort=None)\n",
    ")\n",
    "\n",
    "color_coding = (\n",
    "    alt.when((label == \"Begin\") | (label == \"End\"))\n",
    "    .then(alt.value(\"#878d96\"))\n",
    "    .when(calc_amount < 0)\n",
    "    .then(alt.value(\"#24a148\"))\n",
    "    .otherwise(alt.value(\"#fa4d56\"))\n",
    ")\n",
    "\n",
    "bar_size = 35\n",
    "\n",
    "bar = base_chart.mark_bar(size=bar_size).encode(\n",
    "    y=alt.Y(\"calc_prev_sum:Q\", title=\"Amount\"),\n",
    "    y2=alt.Y2(\"window_sum_amount:Q\"),\n",
    "    # color=color_coding,\n",
    "    color=alt.Color('group:N').legend(None),\n",
    ")\n",
    "\n",
    "# The \"rule\" chart is for the horizontal lines that connect the bars\n",
    "rule = base_chart.mark_rule(xOffset=-bar_size / 2, x2Offset=bar_size / 2).encode(\n",
    "    y=\"window_sum_amount:Q\",\n",
    "    x2=\"calc_lead\",\n",
    ")\n",
    "\n",
    "# Add values as text\n",
    "text_pos_values_top_of_bar = base_chart.mark_text(baseline=\"bottom\", dy=-4).encode(\n",
    "    text=alt.Text(\"calc_sum_inc:N\"),\n",
    "    y=\"calc_sum_inc:Q\",\n",
    ")\n",
    "text_neg_values_bot_of_bar = base_chart.mark_text(baseline=\"top\", dy=4).encode(\n",
    "    text=alt.Text(\"calc_sum_dec:N\"),\n",
    "    y=\"calc_sum_dec:Q\",\n",
    ")\n",
    "text_bar_values_mid_of_bar = base_chart.mark_text(baseline=\"middle\", fontSize=bar_size / 3).encode(\n",
    "    text=alt.Text(\"calc_text_amount:N\"),\n",
    "    y=\"calc_center:Q\",\n",
    "    color=alt.value(\"white\"),\n",
    ")\n",
    "\n",
    "chart = alt.layer(\n",
    "    bar,\n",
    "    rule,\n",
    "    text_pos_values_top_of_bar,\n",
    "    text_neg_values_bot_of_bar,\n",
    "    text_bar_values_mid_of_bar\n",
    ").properties(\n",
    "    width=alt.Step(bar_size + 20),\n",
    "    height=150\n",
    ").facet(\n",
    "    facet=\"group\",\n",
    "    columns=2,\n",
    ").transform_window(\n",
    "    window_sum_amount=\"sum(amount)\",\n",
    "    window_lead_label=\"lead(label)\",\n",
    "    groupby=[\"group\"],\n",
    ").transform_calculate(\n",
    "    calc_lead=alt.expr.if_((window_lead_label == None), label, window_lead_label),\n",
    "    calc_prev_sum=calc_prev_sum,\n",
    "    calc_amount=calc_amount,\n",
    "    calc_text_amount=calc_text_amount,\n",
    "    calc_center=(window_sum_amount + calc_prev_sum) / 2,\n",
    "    calc_sum_dec=alt.expr.if_(window_sum_amount < calc_prev_sum, window_sum_amount, \"\"),\n",
    "    calc_sum_inc=alt.expr.if_(window_sum_amount > calc_prev_sum, window_sum_amount, \"\"),\n",
    ").resolve_scale(\n",
    "    x=\"independent\"\n",
    ")\n",
    "\n",
    "alt.JupyterChart(chart)"
   ]
  },
  {
   "cell_type": "code",
   "execution_count": null,
   "metadata": {},
   "outputs": [],
   "source": []
  }
 ],
 "metadata": {
  "kernelspec": {
   "display_name": ".venv",
   "language": "python",
   "name": "python3"
  },
  "language_info": {
   "codemirror_mode": {
    "name": "ipython",
    "version": 3
   },
   "file_extension": ".py",
   "mimetype": "text/x-python",
   "name": "python",
   "nbconvert_exporter": "python",
   "pygments_lexer": "ipython3",
   "version": "3.11.11"
  }
 },
 "nbformat": 4,
 "nbformat_minor": 2
}
