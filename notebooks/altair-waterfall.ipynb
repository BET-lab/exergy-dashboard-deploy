{
 "cells": [
  {
   "cell_type": "code",
   "execution_count": 1,
   "metadata": {},
   "outputs": [],
   "source": [
    "%load_ext autoreload\n",
    "%autoreload 2"
   ]
  },
  {
   "cell_type": "code",
   "execution_count": 2,
   "metadata": {},
   "outputs": [],
   "source": [
    "import altair as alt\n",
    "import pandas as pd\n",
    "\n",
    "alt.JupyterChart.enable_offline()"
   ]
  },
  {
   "cell_type": "code",
   "execution_count": 3,
   "metadata": {},
   "outputs": [],
   "source": [
    "df = pd.DataFrame({\n",
    "    'x': ['A', 'B', 'C', 'D', 'E'],\n",
    "    'y': [5, -10, 15, -7, 5]\n",
    "})\n",
    "\n",
    "groups = 'abcde'\n",
    "dfs = []\n",
    "for i, group in enumerate(groups):\n",
    "    dfs.append(df.copy())\n",
    "    dfs[i]['group'] = f'group {group}'\n",
    "\n",
    "df = pd.concat(dfs) "
   ]
  },
  {
   "cell_type": "code",
   "execution_count": 4,
   "metadata": {},
   "outputs": [
    {
     "data": {
      "application/vnd.jupyter.widget-view+json": {
       "model_id": "cd6aabe8d3c547cc94b294355be463ab",
       "version_major": 2,
       "version_minor": 1
      },
      "text/plain": [
       "JupyterChart(spec={'config': {'view': {'continuousWidth': 300, 'continuousHeight': 300}}, 'data': {'name': 'da…"
      ]
     },
     "execution_count": 4,
     "metadata": {},
     "output_type": "execute_result"
    }
   ],
   "source": [
    "chart = (\n",
    "    alt.Chart(df)\n",
    "    .transform_window(\n",
    "        acc_y='sum(y)',\n",
    "        frame=[None, 0],\n",
    "        groupby=['group'],\n",
    "    )\n",
    "    .transform_window(\n",
    "        lead_x='lead(x)',\n",
    "        groupby=['group'],\n",
    "    )\n",
    "    .transform_calculate(\n",
    "        calc_lead_x='datum.lead_x == null ? datum.x : datum.lead_x',\n",
    "    )\n",
    ")\n",
    "\n",
    "chart = chart.mark_rule().encode(\n",
    "    x='x:O',\n",
    "    x2='calc_lead_x:O',\n",
    "    # x='x:O',\n",
    "    y='acc_y:Q',\n",
    "    column='group',\n",
    ")\n",
    "\n",
    "# .properties(\n",
    "#     width=200,\n",
    "#     height=150,\n",
    "# ).facet(\n",
    "#     facet='group',\n",
    "#     columns=2,\n",
    "# ).resolve_axis(\n",
    "#     x='independent',\n",
    "# )\n",
    "\n",
    "jchart = alt.JupyterChart(chart)\n",
    "jchart"
   ]
  },
  {
   "cell_type": "code",
   "execution_count": 5,
   "metadata": {},
   "outputs": [],
   "source": [
    "chart.save('chart.html')"
   ]
  },
  {
   "cell_type": "code",
   "execution_count": 6,
   "metadata": {},
   "outputs": [
    {
     "data": {
      "application/vnd.jupyter.widget-view+json": {
       "model_id": "2b37e5409c12413d9c7b9cb4daa21174",
       "version_major": 2,
       "version_minor": 1
      },
      "text/plain": [
       "JupyterChart(spec={'config': {'view': {'continuousWidth': 300, 'continuousHeight': 300}}, 'data': {'name': 'da…"
      ]
     },
     "execution_count": 6,
     "metadata": {},
     "output_type": "execute_result"
    }
   ],
   "source": [
    "data = [\n",
    "    {\"label\": \"Begin\", \"amount\": 4000},\n",
    "    # {\"label\": \"Jan\", \"amount\": 1707},\n",
    "    {\"label\": \"Feb\", \"amount\": -1425},\n",
    "    # {\"label\": \"Mar\", \"amount\": -1030},\n",
    "    # {\"label\": \"Apr\", \"amount\": 1812},\n",
    "    {\"label\": \"May\", \"amount\": -1067},\n",
    "    # {\"label\": \"Jun\", \"amount\": -1481},\n",
    "    {\"label\": \"Jul\", \"amount\": 1228},\n",
    "    # {\"label\": \"Aug\", \"amount\": 1176},\n",
    "    # {\"label\": \"Sep\", \"amount\": 1146},\n",
    "    # {\"label\": \"Oct\", \"amount\": 1205},\n",
    "    # {\"label\": \"Nov\", \"amount\": -1388},\n",
    "    # {\"label\": \"Dec\", \"amount\": 1492},\n",
    "    {\"label\": \"End\", \"amount\": 0},\n",
    "]\n",
    "source = pd.DataFrame(data)\n",
    "\n",
    "sources = []\n",
    "for i, group in enumerate(groups):\n",
    "    sources.append(source.copy())\n",
    "    sources[i]['group'] = f'group {group}'\n",
    "\n",
    "source = pd.concat(sources)\n",
    "\n",
    "# Define frequently referenced fields\n",
    "amount = alt.datum.amount\n",
    "label = alt.datum.label\n",
    "window_lead_label = alt.datum.window_lead_label\n",
    "window_sum_amount = alt.datum.window_sum_amount\n",
    "\n",
    "# Define frequently referenced/long expressions\n",
    "calc_prev_sum = alt.expr.if_(label == \"End\", 0, window_sum_amount - amount)\n",
    "calc_amount = alt.expr.if_(label == \"End\", window_sum_amount, amount)\n",
    "calc_text_amount = (\n",
    "    alt.expr.if_((label != \"Begin\") & (label != \"End\") & calc_amount > 0, \"+\", \"\")\n",
    "    + calc_amount\n",
    ")\n",
    "\n",
    "# The \"base_chart\" defines the transform_window, transform_calculate, and X axis\n",
    "base_chart = alt.Chart(source).encode(\n",
    "    x=alt.X(\"label:O\", axis=alt.Axis(title=\"Months\", labelAngle=0), sort=None)\n",
    ")\n",
    "\n",
    "color_coding = (\n",
    "    alt.when((label == \"Begin\") | (label == \"End\"))\n",
    "    .then(alt.value(\"#878d96\"))\n",
    "    .when(calc_amount < 0)\n",
    "    .then(alt.value(\"#24a148\"))\n",
    "    .otherwise(alt.value(\"#fa4d56\"))\n",
    ")\n",
    "\n",
    "bar_size = 35\n",
    "\n",
    "bar = base_chart.mark_bar(size=bar_size).encode(\n",
    "    y=alt.Y(\"calc_prev_sum:Q\", title=\"Amount\"),\n",
    "    y2=alt.Y2(\"window_sum_amount:Q\"),\n",
    "    # color=color_coding,\n",
    "    color=alt.Color('group:N').legend(None),\n",
    "    tooltip=[alt.Tooltip(\"label:N\", title=\"Month\"), alt.Tooltip(\"amount:Q\", title=\"Amount\")],\n",
    ")\n",
    "\n",
    "# The \"rule\" chart is for the horizontal lines that connect the bars\n",
    "rule = base_chart.mark_rule(xOffset=-bar_size / 2, x2Offset=bar_size / 2).encode(\n",
    "    y=\"window_sum_amount:Q\",\n",
    "    x2=\"calc_lead\",\n",
    ")\n",
    "\n",
    "# Add values as text\n",
    "text_pos_values_top_of_bar = base_chart.mark_text(baseline=\"bottom\", dy=-4).encode(\n",
    "    text=alt.Text(\"calc_sum_inc:N\"),\n",
    "    y=\"calc_sum_inc:Q\",\n",
    ")\n",
    "text_neg_values_bot_of_bar = base_chart.mark_text(baseline=\"top\", dy=4).encode(\n",
    "    text=alt.Text(\"calc_sum_dec:N\"),\n",
    "    y=\"calc_sum_dec:Q\",\n",
    ")\n",
    "text_bar_values_mid_of_bar = base_chart.mark_text(baseline=\"middle\", fontSize=bar_size / 3).encode(\n",
    "    text=alt.Text(\"calc_text_amount:N\"),\n",
    "    y=\"calc_center:Q\",\n",
    "    color=alt.value(\"white\"),\n",
    ")\n",
    "\n",
    "chart = alt.layer(\n",
    "    bar,\n",
    "    rule,\n",
    "    text_pos_values_top_of_bar,\n",
    "    text_neg_values_bot_of_bar,\n",
    "    text_bar_values_mid_of_bar\n",
    ").properties(\n",
    "    width=alt.Step(bar_size + 20),\n",
    "    # width='container',\n",
    "    height=150\n",
    ").facet(\n",
    "    facet=alt.Facet(\"group\",).title('System'),\n",
    "    columns=2,\n",
    ").transform_window(\n",
    "    window_sum_amount=\"sum(amount)\",\n",
    "    window_lead_label=\"lead(label)\",\n",
    "    groupby=[\"group\"],\n",
    ").transform_calculate(\n",
    "    calc_lead=alt.expr.if_((window_lead_label == None), label, window_lead_label),\n",
    "    calc_prev_sum=calc_prev_sum,\n",
    "    calc_amount=calc_amount,\n",
    "    calc_text_amount=calc_text_amount,\n",
    "    calc_center=(window_sum_amount + calc_prev_sum) / 2,\n",
    "    calc_sum_dec=alt.expr.if_(window_sum_amount < calc_prev_sum, window_sum_amount, \"\"),\n",
    "    calc_sum_inc=alt.expr.if_(window_sum_amount > calc_prev_sum, window_sum_amount, \"\"),\n",
    ").resolve_scale(\n",
    "    x=\"independent\"\n",
    ")\n",
    "\n",
    "alt.JupyterChart(chart)"
   ]
  },
  {
   "cell_type": "code",
   "execution_count": 7,
   "metadata": {},
   "outputs": [],
   "source": [
    "from pylatexenc.latex2text import LatexNodes2Text"
   ]
  },
  {
   "cell_type": "code",
   "execution_count": 8,
   "metadata": {},
   "outputs": [
    {
     "name": "stdout",
     "output_type": "stream",
     "text": [
      "Hi there! Here is an equation:\n",
      "\n",
      "    ζ = x + i y\n",
      "\n",
      "where i is the imaginary unit.\n",
      "\n"
     ]
    }
   ],
   "source": [
    "latex = r\"\"\"\\textbf{Hi there!} Here is \\emph{an equation}:\n",
    "\\begin{equation}\n",
    "    \\zeta = x + i y\n",
    "\\end{equation}\n",
    "where $i$ is the imaginary unit.\n",
    "\"\"\"\n",
    "print(LatexNodes2Text().latex_to_text(latex))"
   ]
  },
  {
   "cell_type": "code",
   "execution_count": 9,
   "metadata": {},
   "outputs": [
    {
     "name": "stdout",
     "output_type": "stream",
     "text": [
      "T_a,int,out\n"
     ]
    }
   ],
   "source": [
    "print(LatexNodes2Text().latex_to_text(r'T_{a,int,out}'))"
   ]
  },
  {
   "cell_type": "code",
   "execution_count": 10,
   "metadata": {},
   "outputs": [
    {
     "name": "stdout",
     "output_type": "stream",
     "text": [
      "Load colors...\n",
      "Load colormaps...\n"
     ]
    }
   ],
   "source": [
    "from exergy_dashboard.chart import (\n",
    "    plot_waterfall_cooling_ashp,\n",
    "    plot_waterfall_cooling_gshp,\n",
    "    plot_waterfall_multi,\n",
    ")"
   ]
  },
  {
   "cell_type": "code",
   "execution_count": 12,
   "metadata": {},
   "outputs": [
    {
     "data": {
      "text/html": [
       "\n",
       "<style>\n",
       "  #altair-viz-fdf2fd6a07304427adf0eb58f3191db4.vega-embed {\n",
       "    width: 100%;\n",
       "    display: flex;\n",
       "  }\n",
       "\n",
       "  #altair-viz-fdf2fd6a07304427adf0eb58f3191db4.vega-embed details,\n",
       "  #altair-viz-fdf2fd6a07304427adf0eb58f3191db4.vega-embed details summary {\n",
       "    position: relative;\n",
       "  }\n",
       "</style>\n",
       "<div id=\"altair-viz-fdf2fd6a07304427adf0eb58f3191db4\"></div>\n",
       "<script type=\"text/javascript\">\n",
       "  var VEGA_DEBUG = (typeof VEGA_DEBUG == \"undefined\") ? {} : VEGA_DEBUG;\n",
       "  (function(spec, embedOpt){\n",
       "    let outputDiv = document.currentScript.previousElementSibling;\n",
       "    if (outputDiv.id !== \"altair-viz-fdf2fd6a07304427adf0eb58f3191db4\") {\n",
       "      outputDiv = document.getElementById(\"altair-viz-fdf2fd6a07304427adf0eb58f3191db4\");\n",
       "    }\n",
       "\n",
       "    const paths = {\n",
       "      \"vega\": \"https://cdn.jsdelivr.net/npm/vega@5?noext\",\n",
       "      \"vega-lib\": \"https://cdn.jsdelivr.net/npm/vega-lib?noext\",\n",
       "      \"vega-lite\": \"https://cdn.jsdelivr.net/npm/vega-lite@5.20.1?noext\",\n",
       "      \"vega-embed\": \"https://cdn.jsdelivr.net/npm/vega-embed@6?noext\",\n",
       "    };\n",
       "\n",
       "    function maybeLoadScript(lib, version) {\n",
       "      var key = `${lib.replace(\"-\", \"\")}_version`;\n",
       "      return (VEGA_DEBUG[key] == version) ?\n",
       "        Promise.resolve(paths[lib]) :\n",
       "        new Promise(function(resolve, reject) {\n",
       "          var s = document.createElement('script');\n",
       "          document.getElementsByTagName(\"head\")[0].appendChild(s);\n",
       "          s.async = true;\n",
       "          s.onload = () => {\n",
       "            VEGA_DEBUG[key] = version;\n",
       "            return resolve(paths[lib]);\n",
       "          };\n",
       "          s.onerror = () => reject(`Error loading script: ${paths[lib]}`);\n",
       "          s.src = paths[lib];\n",
       "        });\n",
       "    }\n",
       "\n",
       "    function showError(err) {\n",
       "      outputDiv.innerHTML = `<div class=\"error\" style=\"color:red;\">${err}</div>`;\n",
       "      throw err;\n",
       "    }\n",
       "\n",
       "    function displayChart(vegaEmbed) {\n",
       "      vegaEmbed(outputDiv, spec, embedOpt)\n",
       "        .catch(err => showError(`Javascript Error: ${err.message}<br>This usually means there's a typo in your chart specification. See the javascript console for the full traceback.`));\n",
       "    }\n",
       "\n",
       "    if(typeof define === \"function\" && define.amd) {\n",
       "      requirejs.config({paths});\n",
       "      let deps = [\"vega-embed\"];\n",
       "      require(deps, displayChart, err => showError(`Error loading script: ${err.message}`));\n",
       "    } else {\n",
       "      maybeLoadScript(\"vega\", \"5\")\n",
       "        .then(() => maybeLoadScript(\"vega-lite\", \"5.20.1\"))\n",
       "        .then(() => maybeLoadScript(\"vega-embed\", \"6\"))\n",
       "        .catch(showError)\n",
       "        .then(() => displayChart(vegaEmbed));\n",
       "    }\n",
       "  })({\"config\": {\"view\": {\"continuousWidth\": 300, \"continuousHeight\": 300}}, \"data\": {\"name\": \"data-0267d786b33f8c711493f32b5b718610\"}, \"facet\": {\"field\": \"group\", \"title\": \"System\", \"type\": \"nominal\"}, \"spec\": {\"layer\": [{\"mark\": {\"type\": \"bar\", \"size\": 35}, \"encoding\": {\"color\": {\"field\": \"group\", \"legend\": null, \"type\": \"nominal\"}, \"tooltip\": [{\"field\": \"label\", \"title\": \"Month\", \"type\": \"nominal\"}, {\"field\": \"amount\", \"title\": \"Amount\", \"type\": \"quantitative\"}], \"x\": {\"axis\": {\"labelAngle\": 0, \"title\": \"Months\"}, \"field\": \"label\", \"sort\": null, \"type\": \"ordinal\"}, \"y\": {\"field\": \"calc_prev_sum\", \"title\": \"Amount\", \"type\": \"quantitative\"}, \"y2\": {\"field\": \"window_sum_amount\"}}}, {\"mark\": {\"type\": \"rule\", \"x2Offset\": 17.5, \"xOffset\": -17.5}, \"encoding\": {\"x\": {\"axis\": {\"labelAngle\": 0, \"title\": \"Months\"}, \"field\": \"label\", \"sort\": null, \"type\": \"ordinal\"}, \"x2\": {\"field\": \"calc_lead\"}, \"y\": {\"field\": \"window_sum_amount\", \"type\": \"quantitative\"}}}, {\"mark\": {\"type\": \"text\", \"baseline\": \"bottom\", \"dy\": -4}, \"encoding\": {\"text\": {\"field\": \"calc_sum_inc\", \"type\": \"nominal\"}, \"x\": {\"axis\": {\"labelAngle\": 0, \"title\": \"Months\"}, \"field\": \"label\", \"sort\": null, \"type\": \"ordinal\"}, \"y\": {\"field\": \"calc_sum_inc\", \"type\": \"quantitative\"}}}, {\"mark\": {\"type\": \"text\", \"baseline\": \"top\", \"dy\": 4}, \"encoding\": {\"text\": {\"field\": \"calc_sum_dec\", \"type\": \"nominal\"}, \"x\": {\"axis\": {\"labelAngle\": 0, \"title\": \"Months\"}, \"field\": \"label\", \"sort\": null, \"type\": \"ordinal\"}, \"y\": {\"field\": \"calc_sum_dec\", \"type\": \"quantitative\"}}}, {\"mark\": {\"type\": \"text\", \"baseline\": \"middle\", \"fontSize\": 11.666666666666666}, \"encoding\": {\"color\": {\"value\": \"white\"}, \"text\": {\"field\": \"calc_text_amount\", \"type\": \"nominal\"}, \"x\": {\"axis\": {\"labelAngle\": 0, \"title\": \"Months\"}, \"field\": \"label\", \"sort\": null, \"type\": \"ordinal\"}, \"y\": {\"field\": \"calc_center\", \"type\": \"quantitative\"}}}], \"height\": 150, \"width\": {\"step\": 55}}, \"columns\": 2, \"resolve\": {\"scale\": {\"x\": \"independent\"}}, \"transform\": [{\"window\": [{\"op\": \"sum\", \"field\": \"amount\", \"as\": \"window_sum_amount\"}, {\"op\": \"lead\", \"field\": \"label\", \"as\": \"window_lead_label\"}], \"groupby\": [\"group\"]}, {\"calculate\": \"if((datum.window_lead_label === null),datum.label,datum.window_lead_label)\", \"as\": \"calc_lead\"}, {\"calculate\": \"if((datum.label === 'End'),0,(datum.window_sum_amount - datum.amount))\", \"as\": \"calc_prev_sum\"}, {\"calculate\": \"if((datum.label === 'End'),datum.window_sum_amount,datum.amount)\", \"as\": \"calc_amount\"}, {\"calculate\": \"(if(((((datum.label !== 'Begin') && (datum.label !== 'End')) && if((datum.label === 'End'),datum.window_sum_amount,datum.amount)) > 0),'+','') + if((datum.label === 'End'),datum.window_sum_amount,datum.amount))\", \"as\": \"calc_text_amount\"}, {\"calculate\": \"((datum.window_sum_amount + if((datum.label === 'End'),0,(datum.window_sum_amount - datum.amount))) / 2)\", \"as\": \"calc_center\"}, {\"calculate\": \"if((datum.window_sum_amount < if((datum.label === 'End'),0,(datum.window_sum_amount - datum.amount))),datum.window_sum_amount,'')\", \"as\": \"calc_sum_dec\"}, {\"calculate\": \"if((datum.window_sum_amount > if((datum.label === 'End'),0,(datum.window_sum_amount - datum.amount))),datum.window_sum_amount,'')\", \"as\": \"calc_sum_inc\"}], \"$schema\": \"https://vega.github.io/schema/vega-lite/v5.20.1.json\", \"datasets\": {\"data-0267d786b33f8c711493f32b5b718610\": [{\"label\": \"Begin\", \"amount\": 4000, \"group\": \"group a\"}, {\"label\": \"Feb\", \"amount\": -1425, \"group\": \"group a\"}, {\"label\": \"May\", \"amount\": -1067, \"group\": \"group a\"}, {\"label\": \"Jul\", \"amount\": 1228, \"group\": \"group a\"}, {\"label\": \"End\", \"amount\": 0, \"group\": \"group a\"}, {\"label\": \"Begin\", \"amount\": 4000, \"group\": \"group b\"}, {\"label\": \"Feb\", \"amount\": -1425, \"group\": \"group b\"}, {\"label\": \"May\", \"amount\": -1067, \"group\": \"group b\"}, {\"label\": \"Jul\", \"amount\": 1228, \"group\": \"group b\"}, {\"label\": \"End\", \"amount\": 0, \"group\": \"group b\"}, {\"label\": \"Begin\", \"amount\": 4000, \"group\": \"group c\"}, {\"label\": \"Feb\", \"amount\": -1425, \"group\": \"group c\"}, {\"label\": \"May\", \"amount\": -1067, \"group\": \"group c\"}, {\"label\": \"Jul\", \"amount\": 1228, \"group\": \"group c\"}, {\"label\": \"End\", \"amount\": 0, \"group\": \"group c\"}, {\"label\": \"Begin\", \"amount\": 4000, \"group\": \"group d\"}, {\"label\": \"Feb\", \"amount\": -1425, \"group\": \"group d\"}, {\"label\": \"May\", \"amount\": -1067, \"group\": \"group d\"}, {\"label\": \"Jul\", \"amount\": 1228, \"group\": \"group d\"}, {\"label\": \"End\", \"amount\": 0, \"group\": \"group d\"}, {\"label\": \"Begin\", \"amount\": 4000, \"group\": \"group e\"}, {\"label\": \"Feb\", \"amount\": -1425, \"group\": \"group e\"}, {\"label\": \"May\", \"amount\": -1067, \"group\": \"group e\"}, {\"label\": \"Jul\", \"amount\": 1228, \"group\": \"group e\"}, {\"label\": \"End\", \"amount\": 0, \"group\": \"group e\"}]}}, {\"mode\": \"vega-lite\"});\n",
       "</script>"
      ],
      "text/plain": [
       "alt.FacetChart(...)"
      ]
     },
     "execution_count": 12,
     "metadata": {},
     "output_type": "execute_result"
    }
   ],
   "source": [
    "plot_waterfall_multi(source, 'Begin', 'End')\n"
   ]
  },
  {
   "cell_type": "code",
   "execution_count": null,
   "metadata": {},
   "outputs": [],
   "source": []
  },
  {
   "cell_type": "code",
   "execution_count": null,
   "metadata": {},
   "outputs": [],
   "source": []
  }
 ],
 "metadata": {
  "kernelspec": {
   "display_name": ".venv",
   "language": "python",
   "name": "python3"
  },
  "language_info": {
   "codemirror_mode": {
    "name": "ipython",
    "version": 3
   },
   "file_extension": ".py",
   "mimetype": "text/x-python",
   "name": "python",
   "nbconvert_exporter": "python",
   "pygments_lexer": "ipython3",
   "version": "3.11.11"
  }
 },
 "nbformat": 4,
 "nbformat_minor": 2
}
